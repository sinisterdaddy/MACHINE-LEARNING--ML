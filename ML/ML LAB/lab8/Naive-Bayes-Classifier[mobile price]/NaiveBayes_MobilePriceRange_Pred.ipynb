{
 "cells": [
  {
   "cell_type": "code",
   "execution_count": 1,
   "id": "9a830980",
   "metadata": {},
   "outputs": [],
   "source": [
    "import os\n",
    "import pandas as pd\n",
    "import numpy as np\n",
    "import matplotlib.pyplot as plt\n",
    "import seaborn as sns\n",
    "from sklearn.model_selection import train_test_split\n",
    "from sklearn import metrics\n",
    "from sklearn.preprocessing import MinMaxScaler, StandardScaler\n",
    "from sklearn import metrics\n",
    "from sklearn.naive_bayes import MultinomialNB"
   ]
  },
  {
   "cell_type": "code",
   "execution_count": 3,
   "id": "c1af50be",
   "metadata": {},
   "outputs": [],
   "source": [
    "os.chdir(r'C:\\Users\\Bushra Ansari\\Desktop\\LMS_DATASET\\Naive_Bayes')"
   ]
  },
  {
   "cell_type": "code",
   "execution_count": 4,
   "id": "f80f2a88",
   "metadata": {},
   "outputs": [
    {
     "data": {
      "text/plain": [
       "['HR_comma_sep.csv', 'mobile_price.csv', 'Problem Statement_NaiveBayes.pdf']"
      ]
     },
     "execution_count": 4,
     "metadata": {},
     "output_type": "execute_result"
    }
   ],
   "source": [
    "os.listdir()"
   ]
  },
  {
   "cell_type": "code",
   "execution_count": 5,
   "id": "df3b0f62",
   "metadata": {},
   "outputs": [
    {
     "data": {
      "text/html": [
       "<div>\n",
       "<style scoped>\n",
       "    .dataframe tbody tr th:only-of-type {\n",
       "        vertical-align: middle;\n",
       "    }\n",
       "\n",
       "    .dataframe tbody tr th {\n",
       "        vertical-align: top;\n",
       "    }\n",
       "\n",
       "    .dataframe thead th {\n",
       "        text-align: right;\n",
       "    }\n",
       "</style>\n",
       "<table border=\"1\" class=\"dataframe\">\n",
       "  <thead>\n",
       "    <tr style=\"text-align: right;\">\n",
       "      <th></th>\n",
       "      <th>battery_power</th>\n",
       "      <th>blue</th>\n",
       "      <th>clock_speed</th>\n",
       "      <th>dual_sim</th>\n",
       "      <th>fc</th>\n",
       "      <th>four_g</th>\n",
       "      <th>int_memory</th>\n",
       "      <th>m_dep</th>\n",
       "      <th>mobile_wt</th>\n",
       "      <th>n_cores</th>\n",
       "      <th>...</th>\n",
       "      <th>px_height</th>\n",
       "      <th>px_width</th>\n",
       "      <th>ram</th>\n",
       "      <th>sc_h</th>\n",
       "      <th>sc_w</th>\n",
       "      <th>talk_time</th>\n",
       "      <th>three_g</th>\n",
       "      <th>touch_screen</th>\n",
       "      <th>wifi</th>\n",
       "      <th>price_range</th>\n",
       "    </tr>\n",
       "  </thead>\n",
       "  <tbody>\n",
       "    <tr>\n",
       "      <th>0</th>\n",
       "      <td>842</td>\n",
       "      <td>0</td>\n",
       "      <td>2.2</td>\n",
       "      <td>0</td>\n",
       "      <td>1</td>\n",
       "      <td>0</td>\n",
       "      <td>7</td>\n",
       "      <td>0.6</td>\n",
       "      <td>188</td>\n",
       "      <td>2</td>\n",
       "      <td>...</td>\n",
       "      <td>20</td>\n",
       "      <td>756</td>\n",
       "      <td>2549</td>\n",
       "      <td>9</td>\n",
       "      <td>7</td>\n",
       "      <td>19</td>\n",
       "      <td>0</td>\n",
       "      <td>0</td>\n",
       "      <td>1</td>\n",
       "      <td>1</td>\n",
       "    </tr>\n",
       "    <tr>\n",
       "      <th>1</th>\n",
       "      <td>1021</td>\n",
       "      <td>1</td>\n",
       "      <td>0.5</td>\n",
       "      <td>1</td>\n",
       "      <td>0</td>\n",
       "      <td>1</td>\n",
       "      <td>53</td>\n",
       "      <td>0.7</td>\n",
       "      <td>136</td>\n",
       "      <td>3</td>\n",
       "      <td>...</td>\n",
       "      <td>905</td>\n",
       "      <td>1988</td>\n",
       "      <td>2631</td>\n",
       "      <td>17</td>\n",
       "      <td>3</td>\n",
       "      <td>7</td>\n",
       "      <td>1</td>\n",
       "      <td>1</td>\n",
       "      <td>0</td>\n",
       "      <td>2</td>\n",
       "    </tr>\n",
       "    <tr>\n",
       "      <th>2</th>\n",
       "      <td>563</td>\n",
       "      <td>1</td>\n",
       "      <td>0.5</td>\n",
       "      <td>1</td>\n",
       "      <td>2</td>\n",
       "      <td>1</td>\n",
       "      <td>41</td>\n",
       "      <td>0.9</td>\n",
       "      <td>145</td>\n",
       "      <td>5</td>\n",
       "      <td>...</td>\n",
       "      <td>1263</td>\n",
       "      <td>1716</td>\n",
       "      <td>2603</td>\n",
       "      <td>11</td>\n",
       "      <td>2</td>\n",
       "      <td>9</td>\n",
       "      <td>1</td>\n",
       "      <td>1</td>\n",
       "      <td>0</td>\n",
       "      <td>2</td>\n",
       "    </tr>\n",
       "    <tr>\n",
       "      <th>3</th>\n",
       "      <td>615</td>\n",
       "      <td>1</td>\n",
       "      <td>2.5</td>\n",
       "      <td>0</td>\n",
       "      <td>0</td>\n",
       "      <td>0</td>\n",
       "      <td>10</td>\n",
       "      <td>0.8</td>\n",
       "      <td>131</td>\n",
       "      <td>6</td>\n",
       "      <td>...</td>\n",
       "      <td>1216</td>\n",
       "      <td>1786</td>\n",
       "      <td>2769</td>\n",
       "      <td>16</td>\n",
       "      <td>8</td>\n",
       "      <td>11</td>\n",
       "      <td>1</td>\n",
       "      <td>0</td>\n",
       "      <td>0</td>\n",
       "      <td>2</td>\n",
       "    </tr>\n",
       "    <tr>\n",
       "      <th>4</th>\n",
       "      <td>1821</td>\n",
       "      <td>1</td>\n",
       "      <td>1.2</td>\n",
       "      <td>0</td>\n",
       "      <td>13</td>\n",
       "      <td>1</td>\n",
       "      <td>44</td>\n",
       "      <td>0.6</td>\n",
       "      <td>141</td>\n",
       "      <td>2</td>\n",
       "      <td>...</td>\n",
       "      <td>1208</td>\n",
       "      <td>1212</td>\n",
       "      <td>1411</td>\n",
       "      <td>8</td>\n",
       "      <td>2</td>\n",
       "      <td>15</td>\n",
       "      <td>1</td>\n",
       "      <td>1</td>\n",
       "      <td>0</td>\n",
       "      <td>1</td>\n",
       "    </tr>\n",
       "  </tbody>\n",
       "</table>\n",
       "<p>5 rows × 21 columns</p>\n",
       "</div>"
      ],
      "text/plain": [
       "   battery_power  blue  clock_speed  dual_sim  fc  four_g  int_memory  m_dep  \\\n",
       "0            842     0          2.2         0   1       0           7    0.6   \n",
       "1           1021     1          0.5         1   0       1          53    0.7   \n",
       "2            563     1          0.5         1   2       1          41    0.9   \n",
       "3            615     1          2.5         0   0       0          10    0.8   \n",
       "4           1821     1          1.2         0  13       1          44    0.6   \n",
       "\n",
       "   mobile_wt  n_cores  ...  px_height  px_width   ram  sc_h  sc_w  talk_time  \\\n",
       "0        188        2  ...         20       756  2549     9     7         19   \n",
       "1        136        3  ...        905      1988  2631    17     3          7   \n",
       "2        145        5  ...       1263      1716  2603    11     2          9   \n",
       "3        131        6  ...       1216      1786  2769    16     8         11   \n",
       "4        141        2  ...       1208      1212  1411     8     2         15   \n",
       "\n",
       "   three_g  touch_screen  wifi  price_range  \n",
       "0        0             0     1            1  \n",
       "1        1             1     0            2  \n",
       "2        1             1     0            2  \n",
       "3        1             0     0            2  \n",
       "4        1             1     0            1  \n",
       "\n",
       "[5 rows x 21 columns]"
      ]
     },
     "execution_count": 5,
     "metadata": {},
     "output_type": "execute_result"
    }
   ],
   "source": [
    "mob = pd.read_csv('mobile_price.csv')\n",
    "mob.head()"
   ]
  },
  {
   "cell_type": "code",
   "execution_count": 6,
   "id": "1bb0fdda",
   "metadata": {},
   "outputs": [
    {
     "name": "stdout",
     "output_type": "stream",
     "text": [
      "<class 'pandas.core.frame.DataFrame'>\n",
      "RangeIndex: 2000 entries, 0 to 1999\n",
      "Data columns (total 21 columns):\n",
      " #   Column         Non-Null Count  Dtype  \n",
      "---  ------         --------------  -----  \n",
      " 0   battery_power  2000 non-null   int64  \n",
      " 1   blue           2000 non-null   int64  \n",
      " 2   clock_speed    2000 non-null   float64\n",
      " 3   dual_sim       2000 non-null   int64  \n",
      " 4   fc             2000 non-null   int64  \n",
      " 5   four_g         2000 non-null   int64  \n",
      " 6   int_memory     2000 non-null   int64  \n",
      " 7   m_dep          2000 non-null   float64\n",
      " 8   mobile_wt      2000 non-null   int64  \n",
      " 9   n_cores        2000 non-null   int64  \n",
      " 10  pc             2000 non-null   int64  \n",
      " 11  px_height      2000 non-null   int64  \n",
      " 12  px_width       2000 non-null   int64  \n",
      " 13  ram            2000 non-null   int64  \n",
      " 14  sc_h           2000 non-null   int64  \n",
      " 15  sc_w           2000 non-null   int64  \n",
      " 16  talk_time      2000 non-null   int64  \n",
      " 17  three_g        2000 non-null   int64  \n",
      " 18  touch_screen   2000 non-null   int64  \n",
      " 19  wifi           2000 non-null   int64  \n",
      " 20  price_range    2000 non-null   int64  \n",
      "dtypes: float64(2), int64(19)\n",
      "memory usage: 328.2 KB\n"
     ]
    }
   ],
   "source": [
    "mob.info()"
   ]
  },
  {
   "cell_type": "code",
   "execution_count": 7,
   "id": "e5e698b6",
   "metadata": {},
   "outputs": [
    {
     "data": {
      "text/plain": [
       "int64      19\n",
       "float64     2\n",
       "dtype: int64"
      ]
     },
     "execution_count": 7,
     "metadata": {},
     "output_type": "execute_result"
    }
   ],
   "source": [
    "mob.dtypes.value_counts()"
   ]
  },
  {
   "cell_type": "code",
   "execution_count": 8,
   "id": "9881b0f8",
   "metadata": {},
   "outputs": [
    {
     "data": {
      "text/plain": [
       "(2000, 21)"
      ]
     },
     "execution_count": 8,
     "metadata": {},
     "output_type": "execute_result"
    }
   ],
   "source": [
    "mob.shape"
   ]
  },
  {
   "cell_type": "code",
   "execution_count": 9,
   "id": "aed63b17",
   "metadata": {},
   "outputs": [
    {
     "data": {
      "text/plain": [
       "battery_power    0\n",
       "blue             0\n",
       "clock_speed      0\n",
       "dual_sim         0\n",
       "fc               0\n",
       "four_g           0\n",
       "int_memory       0\n",
       "m_dep            0\n",
       "mobile_wt        0\n",
       "n_cores          0\n",
       "pc               0\n",
       "px_height        0\n",
       "px_width         0\n",
       "ram              0\n",
       "sc_h             0\n",
       "sc_w             0\n",
       "talk_time        0\n",
       "three_g          0\n",
       "touch_screen     0\n",
       "wifi             0\n",
       "price_range      0\n",
       "dtype: int64"
      ]
     },
     "execution_count": 9,
     "metadata": {},
     "output_type": "execute_result"
    }
   ],
   "source": [
    "mob.isnull().sum()"
   ]
  },
  {
   "cell_type": "markdown",
   "id": "c2afee8c",
   "metadata": {},
   "source": [
    "No missing values in data set."
   ]
  },
  {
   "cell_type": "markdown",
   "id": "7ec9babf",
   "metadata": {},
   "source": [
    "#### Univariate Analysis"
   ]
  },
  {
   "cell_type": "code",
   "execution_count": 10,
   "id": "651a7e4f",
   "metadata": {},
   "outputs": [
    {
     "data": {
      "image/png": "[encoded data removed]",
      "text/plain": [
       "<Figure size 432x288 with 1 Axes>"
      ]
     },
     "metadata": {
      "needs_background": "light"
     },
     "output_type": "display_data"
    }
   ],
   "source": [
    "mob['battery_power'].plot(kind = 'hist', cmap = 'Spectral', edgecolor = 'y')\n",
    "plt.xlabel('battery power')\n",
    "plt.show()"
   ]
  },
  {
   "cell_type": "code",
   "execution_count": 11,
   "id": "cb02dbb7",
   "metadata": {},
   "outputs": [
    {
     "data": {
      "image/png": "[encoded data removed]",
      "text/plain": [
       "<Figure size 720x360 with 1 Axes>"
      ]
     },
     "metadata": {
      "needs_background": "light"
     },
     "output_type": "display_data"
    }
   ],
   "source": [
    "plt.figure(figsize = [10,5])\n",
    "sns.countplot(x = mob['clock_speed'], data = mob, palette = 'tab20')\n",
    "plt.show()"
   ]
  },
  {
   "cell_type": "code",
   "execution_count": 12,
   "id": "d5dc3190",
   "metadata": {},
   "outputs": [
    {
     "data": {
      "text/plain": [
       "array([ 1,  0,  2, 13,  3,  4,  5,  7, 11, 12, 16,  6, 15,  8,  9, 10, 18,\n",
       "       17, 14, 19], dtype=int64)"
      ]
     },
     "execution_count": 12,
     "metadata": {},
     "output_type": "execute_result"
    }
   ],
   "source": [
    "mob['fc'].unique()"
   ]
  },
  {
   "cell_type": "code",
   "execution_count": 13,
   "id": "f155733e",
   "metadata": {},
   "outputs": [
    {
     "data": {
      "image/png": "[encoded data removed]",
      "text/plain": [
       "<Figure size 720x360 with 1 Axes>"
      ]
     },
     "metadata": {
      "needs_background": "light"
     },
     "output_type": "display_data"
    }
   ],
   "source": [
    "plt.figure(figsize = [10,5])\n",
    "sns.countplot(x = mob['fc'], data = mob, palette = 'Accent')\n",
    "plt.show()"
   ]
  },
  {
   "cell_type": "code",
   "execution_count": 14,
   "id": "c6249cd2",
   "metadata": {},
   "outputs": [
    {
     "data": {
      "text/plain": [
       "63"
      ]
     },
     "execution_count": 14,
     "metadata": {},
     "output_type": "execute_result"
    }
   ],
   "source": [
    "mob['int_memory'].nunique()"
   ]
  },
  {
   "cell_type": "code",
   "execution_count": 15,
   "id": "574ad81b",
   "metadata": {},
   "outputs": [
    {
     "data": {
      "text/plain": [
       "array([0.6, 0.7, 0.9, 0.8, 0.1, 0.5, 1. , 0.3, 0.4, 0.2])"
      ]
     },
     "execution_count": 15,
     "metadata": {},
     "output_type": "execute_result"
    }
   ],
   "source": [
    "mob['m_dep'].unique()"
   ]
  },
  {
   "cell_type": "code",
   "execution_count": 16,
   "id": "02376eb7",
   "metadata": {},
   "outputs": [
    {
     "data": {
      "image/png": "[encoded data removed]",
      "text/plain": [
       "<Figure size 720x360 with 1 Axes>"
      ]
     },
     "metadata": {
      "needs_background": "light"
     },
     "output_type": "display_data"
    }
   ],
   "source": [
    "plt.figure(figsize = [10,5])\n",
    "sns.countplot(x = mob['m_dep'], data = mob, palette = 'Set3')\n",
    "plt.show()"
   ]
  },
  {
   "cell_type": "code",
   "execution_count": 17,
   "id": "ede1b939",
   "metadata": {},
   "outputs": [
    {
     "data": {
      "image/png": "[encoded data removed]",
      "text/plain": [
       "<Figure size 432x288 with 1 Axes>"
      ]
     },
     "metadata": {
      "needs_background": "light"
     },
     "output_type": "display_data"
    }
   ],
   "source": [
    "mob['mobile_wt'].value_counts().plot(kind = 'hist', cmap = 'Wistia', edgecolor = 'r')\n",
    "plt.xlabel('mobile_wt')\n",
    "plt.show()"
   ]
  },
  {
   "cell_type": "code",
   "execution_count": 18,
   "id": "5a2109aa",
   "metadata": {},
   "outputs": [
    {
     "data": {
      "text/plain": [
       "array([2, 3, 5, 6, 1, 8, 4, 7], dtype=int64)"
      ]
     },
     "execution_count": 18,
     "metadata": {},
     "output_type": "execute_result"
    }
   ],
   "source": [
    "mob['n_cores'].unique()"
   ]
  },
  {
   "cell_type": "code",
   "execution_count": 19,
   "id": "41c6bcc5",
   "metadata": {},
   "outputs": [
    {
     "data": {
      "image/png": "[encoded data removed]",
      "text/plain": [
       "<Figure size 720x360 with 1 Axes>"
      ]
     },
     "metadata": {
      "needs_background": "light"
     },
     "output_type": "display_data"
    }
   ],
   "source": [
    "plt.figure(figsize = [10,5])\n",
    "sns.countplot(x = mob['n_cores'], data = mob, palette = 'tab20b')\n",
    "plt.show()"
   ]
  },
  {
   "cell_type": "code",
   "execution_count": 21,
   "id": "4191738f",
   "metadata": {},
   "outputs": [
    {
     "data": {
      "text/plain": [
       "array([ 2,  6,  9, 14,  7, 10,  0, 15,  1, 18, 17, 11, 16,  4, 20, 13,  3,\n",
       "       19,  8,  5, 12], dtype=int64)"
      ]
     },
     "execution_count": 21,
     "metadata": {},
     "output_type": "execute_result"
    }
   ],
   "source": [
    "mob['pc'].unique()"
   ]
  },
  {
   "cell_type": "code",
   "execution_count": 22,
   "id": "3164b067",
   "metadata": {},
   "outputs": [
    {
     "data": {
      "image/png": "[encoded data removed]",
      "text/plain": [
       "<Figure size 720x360 with 1 Axes>"
      ]
     },
     "metadata": {
      "needs_background": "light"
     },
     "output_type": "display_data"
    }
   ],
   "source": [
    "plt.figure(figsize = [10,5])\n",
    "sns.countplot(x = mob['pc'], data = mob, palette = 'tab20c')\n",
    "plt.show()"
   ]
  },
  {
   "cell_type": "code",
   "execution_count": 23,
   "id": "b32ca4d6",
   "metadata": {},
   "outputs": [
    {
     "data": {
      "text/plain": [
       "array([ 9, 17, 11, 16,  8, 13, 19,  5, 14, 18,  7, 10, 12,  6, 15],\n",
       "      dtype=int64)"
      ]
     },
     "execution_count": 23,
     "metadata": {},
     "output_type": "execute_result"
    }
   ],
   "source": [
    "mob['sc_h'].unique()"
   ]
  },
  {
   "cell_type": "code",
   "execution_count": 24,
   "id": "c7c97d47",
   "metadata": {},
   "outputs": [
    {
     "data": {
      "image/png": "[encoded data removed]",
      "text/plain": [
       "<Figure size 720x360 with 1 Axes>"
      ]
     },
     "metadata": {
      "needs_background": "light"
     },
     "output_type": "display_data"
    },
    {
     "data": {
      "image/png": "[encoded data removed]",
      "text/plain": [
       "<Figure size 720x360 with 1 Axes>"
      ]
     },
     "metadata": {
      "needs_background": "light"
     },
     "output_type": "display_data"
    }
   ],
   "source": [
    "plt.figure(figsize = [10,5])\n",
    "sns.countplot(x = mob['sc_h'], data = mob, palette = 'Pastel1')\n",
    "plt.show()\n",
    "\n",
    "plt.figure(figsize = [10,5])\n",
    "sns.countplot(x = mob['sc_w'], data = mob, palette = 'Pastel2')\n",
    "plt.show()"
   ]
  },
  {
   "cell_type": "code",
   "execution_count": 25,
   "id": "177cf2a9",
   "metadata": {},
   "outputs": [
    {
     "data": {
      "text/plain": [
       "array([19,  7,  9, 11, 15, 10, 18,  5, 20, 12, 13,  2,  4,  3, 16,  6, 14,\n",
       "       17,  8], dtype=int64)"
      ]
     },
     "execution_count": 25,
     "metadata": {},
     "output_type": "execute_result"
    }
   ],
   "source": [
    "mob['talk_time'].unique()"
   ]
  },
  {
   "cell_type": "code",
   "execution_count": 26,
   "id": "4557e38f",
   "metadata": {},
   "outputs": [
    {
     "data": {
      "image/png": "[encoded data removed]",
      "text/plain": [
       "<Figure size 720x360 with 1 Axes>"
      ]
     },
     "metadata": {
      "needs_background": "light"
     },
     "output_type": "display_data"
    }
   ],
   "source": [
    "plt.figure(figsize = [10,5])\n",
    "sns.countplot(x = mob['talk_time'], data = mob, palette = 'nipy_spectral')\n",
    "plt.show()"
   ]
  },
  {
   "cell_type": "code",
   "execution_count": 27,
   "id": "795bb7a6",
   "metadata": {},
   "outputs": [
    {
     "data": {
      "text/html": [
       "<div>\n",
       "<style scoped>\n",
       "    .dataframe tbody tr th:only-of-type {\n",
       "        vertical-align: middle;\n",
       "    }\n",
       "\n",
       "    .dataframe tbody tr th {\n",
       "        vertical-align: top;\n",
       "    }\n",
       "\n",
       "    .dataframe thead th {\n",
       "        text-align: right;\n",
       "    }\n",
       "</style>\n",
       "<table border=\"1\" class=\"dataframe\">\n",
       "  <thead>\n",
       "    <tr style=\"text-align: right;\">\n",
       "      <th>price_range</th>\n",
       "      <th>0</th>\n",
       "      <th>1</th>\n",
       "      <th>2</th>\n",
       "      <th>3</th>\n",
       "    </tr>\n",
       "    <tr>\n",
       "      <th>blue</th>\n",
       "      <th></th>\n",
       "      <th></th>\n",
       "      <th></th>\n",
       "      <th></th>\n",
       "    </tr>\n",
       "  </thead>\n",
       "  <tbody>\n",
       "    <tr>\n",
       "      <th>0</th>\n",
       "      <td>257</td>\n",
       "      <td>255</td>\n",
       "      <td>257</td>\n",
       "      <td>241</td>\n",
       "    </tr>\n",
       "    <tr>\n",
       "      <th>1</th>\n",
       "      <td>243</td>\n",
       "      <td>245</td>\n",
       "      <td>243</td>\n",
       "      <td>259</td>\n",
       "    </tr>\n",
       "  </tbody>\n",
       "</table>\n",
       "</div>"
      ],
      "text/plain": [
       "price_range    0    1    2    3\n",
       "blue                           \n",
       "0            257  255  257  241\n",
       "1            243  245  243  259"
      ]
     },
     "execution_count": 27,
     "metadata": {},
     "output_type": "execute_result"
    }
   ],
   "source": [
    "pd.crosstab(mob['blue'], mob['price_range'])"
   ]
  },
  {
   "cell_type": "code",
   "execution_count": 28,
   "id": "81bf8869",
   "metadata": {},
   "outputs": [
    {
     "data": {
      "image/png": "[encoded data removed]",
      "text/plain": [
       "<Figure size 720x720 with 2 Axes>"
      ]
     },
     "metadata": {},
     "output_type": "display_data"
    }
   ],
   "source": [
    "fig, ax = plt.subplots(1, 2, figsize = [10,10])\n",
    "mob['three_g'].value_counts().plot(kind = 'pie', autopct = '%0.2f%%', explode = [0, 0.05], cmap = 'RdYlGn', ax = ax[0])\n",
    "mob['four_g'].value_counts().plot(kind = 'pie', autopct = '%0.2f%%', explode = [0, 0.05], cmap = 'Paired', ax = ax[1])\n",
    "plt.show()"
   ]
  },
  {
   "cell_type": "code",
   "execution_count": 29,
   "id": "174247eb",
   "metadata": {},
   "outputs": [
    {
     "data": {
      "image/png": "[encoded data removed]",
      "text/plain": [
       "<Figure size 432x432 with 1 Axes>"
      ]
     },
     "metadata": {},
     "output_type": "display_data"
    }
   ],
   "source": [
    "mob['touch_screen'].value_counts().plot(kind = 'pie', autopct = '%0.2f%%', figsize = [6,6], cmap = 'Set1')\n",
    "plt.show()"
   ]
  },
  {
   "cell_type": "code",
   "execution_count": 30,
   "id": "5a635fb7",
   "metadata": {},
   "outputs": [
    {
     "data": {
      "image/png": "[encoded data removed]",
      "text/plain": [
       "<Figure size 432x432 with 1 Axes>"
      ]
     },
     "metadata": {},
     "output_type": "display_data"
    }
   ],
   "source": [
    "mob['wifi'].value_counts().plot(kind = 'pie', autopct = '%0.2f%%', cmap = 'Set3', figsize = [6,6])\n",
    "plt.show()"
   ]
  },
  {
   "cell_type": "code",
   "execution_count": 31,
   "id": "bdf82bba",
   "metadata": {},
   "outputs": [
    {
     "data": {
      "image/png": "[encoded data removed]",
      "text/plain": [
       "<Figure size 432x432 with 1 Axes>"
      ]
     },
     "metadata": {},
     "output_type": "display_data"
    }
   ],
   "source": [
    "mob['dual_sim'].value_counts().plot(kind = 'pie', autopct = '%0.2f%%', cmap = 'tab10', figsize = [6,6])\n",
    "plt.show()"
   ]
  },
  {
   "cell_type": "code",
   "execution_count": 32,
   "id": "e4e746c4",
   "metadata": {},
   "outputs": [
    {
     "data": {
      "text/plain": [
       "array([1, 2, 3, 0], dtype=int64)"
      ]
     },
     "execution_count": 32,
     "metadata": {},
     "output_type": "execute_result"
    }
   ],
   "source": [
    "mob['price_range'].unique()"
   ]
  },
  {
   "cell_type": "code",
   "execution_count": 33,
   "id": "609a81b8",
   "metadata": {},
   "outputs": [
    {
     "data": {
      "image/png": "[encoded data removed]",
      "text/plain": [
       "<Figure size 360x360 with 1 Axes>"
      ]
     },
     "metadata": {},
     "output_type": "display_data"
    }
   ],
   "source": [
    "plt.figure(figsize = [5,5])\n",
    "plt.pie(mob['price_range'].value_counts(), autopct = '%0.2f%%', labels = mob['price_range'].value_counts().index,\n",
    "        explode = [0.05,0.05,0.05,0.05], colors = ['#FF7F24', '#FFB90F', '#A2CD5A', '#BF3EFF'])\n",
    "plt.title('price_range')\n",
    "plt.show()"
   ]
  },
  {
   "cell_type": "code",
   "execution_count": 34,
   "id": "f3f2629b",
   "metadata": {},
   "outputs": [
    {
     "data": {
      "text/plain": [
       "Index(['battery_power', 'blue', 'clock_speed', 'dual_sim', 'fc', 'four_g',\n",
       "       'int_memory', 'm_dep', 'mobile_wt', 'n_cores', 'pc', 'px_height',\n",
       "       'px_width', 'ram', 'sc_h', 'sc_w', 'talk_time', 'three_g',\n",
       "       'touch_screen', 'wifi', 'price_range'],\n",
       "      dtype='object')"
      ]
     },
     "execution_count": 34,
     "metadata": {},
     "output_type": "execute_result"
    }
   ],
   "source": [
    "mob.columns"
   ]
  },
  {
   "cell_type": "code",
   "execution_count": 35,
   "id": "dfabddbd",
   "metadata": {},
   "outputs": [
    {
     "name": "stdout",
     "output_type": "stream",
     "text": [
      "<class 'pandas.core.frame.DataFrame'>\n",
      "RangeIndex: 2000 entries, 0 to 1999\n",
      "Data columns (total 21 columns):\n",
      " #   Column         Non-Null Count  Dtype  \n",
      "---  ------         --------------  -----  \n",
      " 0   battery_power  2000 non-null   int64  \n",
      " 1   blue           2000 non-null   object \n",
      " 2   clock_speed    2000 non-null   float64\n",
      " 3   dual_sim       2000 non-null   object \n",
      " 4   fc             2000 non-null   int64  \n",
      " 5   four_g         2000 non-null   object \n",
      " 6   int_memory     2000 non-null   int64  \n",
      " 7   m_dep          2000 non-null   float64\n",
      " 8   mobile_wt      2000 non-null   int64  \n",
      " 9   n_cores        2000 non-null   int64  \n",
      " 10  pc             2000 non-null   int64  \n",
      " 11  px_height      2000 non-null   int64  \n",
      " 12  px_width       2000 non-null   int64  \n",
      " 13  ram            2000 non-null   int64  \n",
      " 14  sc_h           2000 non-null   int64  \n",
      " 15  sc_w           2000 non-null   int64  \n",
      " 16  talk_time      2000 non-null   int64  \n",
      " 17  three_g        2000 non-null   object \n",
      " 18  touch_screen   2000 non-null   object \n",
      " 19  wifi           2000 non-null   object \n",
      " 20  price_range    2000 non-null   int64  \n",
      "dtypes: float64(2), int64(13), object(6)\n",
      "memory usage: 328.2+ KB\n"
     ]
    }
   ],
   "source": [
    "mob1 = mob.astype({'three_g' : str, 'four_g' : str, 'wifi': str, 'touch_screen': str, 'dual_sim' : str, 'blue' : str})\n",
    "mob1.info()"
   ]
  },
  {
   "cell_type": "markdown",
   "id": "5a6da855",
   "metadata": {},
   "source": [
    "#### Bivariate Analysis"
   ]
  },
  {
   "cell_type": "code",
   "execution_count": 34,
   "id": "854175c2",
   "metadata": {},
   "outputs": [
    {
     "data": {
      "image/png": "[encoded data removed]",
      "text/plain": [
       "<Figure size 576x576 with 1 Axes>"
      ]
     },
     "metadata": {
      "needs_background": "light"
     },
     "output_type": "display_data"
    }
   ],
   "source": [
    "mob1.boxplot(column=\"price_range\",       \n",
    "                 by= 'wifi',    \n",
    "                 figsize= (8,8))\n",
    "plt.show()"
   ]
  },
  {
   "cell_type": "markdown",
   "id": "c67c1960",
   "metadata": {},
   "source": [
    "Phones with no wifi are lesser priced as compared to phone with wifi."
   ]
  },
  {
   "cell_type": "code",
   "execution_count": 35,
   "id": "054d883e",
   "metadata": {},
   "outputs": [
    {
     "data": {
      "image/png": "[encoded data removed]",
      "text/plain": [
       "<Figure size 576x576 with 1 Axes>"
      ]
     },
     "metadata": {
      "needs_background": "light"
     },
     "output_type": "display_data"
    }
   ],
   "source": [
    "mob1.boxplot(column=\"price_range\",     \n",
    "                 by= 'three_g',     \n",
    "                 figsize= (8,8))\n",
    "plt.show()"
   ]
  },
  {
   "cell_type": "markdown",
   "id": "6c3f7421",
   "metadata": {},
   "source": [
    "Phones which have three_g feature are expensive as compared to phones which doesn't have three_g."
   ]
  },
  {
   "cell_type": "code",
   "execution_count": 36,
   "id": "52ae0933",
   "metadata": {},
   "outputs": [
    {
     "data": {
      "image/png": "[encoded data removed]",
      "text/plain": [
       "<Figure size 432x288 with 1 Axes>"
      ]
     },
     "metadata": {
      "needs_background": "light"
     },
     "output_type": "display_data"
    }
   ],
   "source": [
    "plt.scatter(mob1['battery_power'], mob1['price_range']) # no relationship \n",
    "plt.xlabel('battery_power')\n",
    "plt.ylabel('price_range')\n",
    "plt.show()"
   ]
  },
  {
   "cell_type": "code",
   "execution_count": 37,
   "id": "25cbe981",
   "metadata": {},
   "outputs": [
    {
     "data": {
      "text/html": [
       "<div>\n",
       "<style scoped>\n",
       "    .dataframe tbody tr th:only-of-type {\n",
       "        vertical-align: middle;\n",
       "    }\n",
       "\n",
       "    .dataframe tbody tr th {\n",
       "        vertical-align: top;\n",
       "    }\n",
       "\n",
       "    .dataframe thead th {\n",
       "        text-align: right;\n",
       "    }\n",
       "</style>\n",
       "<table border=\"1\" class=\"dataframe\">\n",
       "  <thead>\n",
       "    <tr style=\"text-align: right;\">\n",
       "      <th>price_range</th>\n",
       "      <th>0</th>\n",
       "      <th>1</th>\n",
       "      <th>2</th>\n",
       "      <th>3</th>\n",
       "    </tr>\n",
       "    <tr>\n",
       "      <th>blue</th>\n",
       "      <th></th>\n",
       "      <th></th>\n",
       "      <th></th>\n",
       "      <th></th>\n",
       "    </tr>\n",
       "  </thead>\n",
       "  <tbody>\n",
       "    <tr>\n",
       "      <th>0</th>\n",
       "      <td>257</td>\n",
       "      <td>255</td>\n",
       "      <td>257</td>\n",
       "      <td>241</td>\n",
       "    </tr>\n",
       "    <tr>\n",
       "      <th>1</th>\n",
       "      <td>243</td>\n",
       "      <td>245</td>\n",
       "      <td>243</td>\n",
       "      <td>259</td>\n",
       "    </tr>\n",
       "  </tbody>\n",
       "</table>\n",
       "</div>"
      ],
      "text/plain": [
       "price_range    0    1    2    3\n",
       "blue                           \n",
       "0            257  255  257  241\n",
       "1            243  245  243  259"
      ]
     },
     "execution_count": 37,
     "metadata": {},
     "output_type": "execute_result"
    }
   ],
   "source": [
    "pd.crosstab(mob1['blue'], mob1['price_range'])"
   ]
  },
  {
   "cell_type": "code",
   "execution_count": 38,
   "id": "27cf8fef",
   "metadata": {},
   "outputs": [
    {
     "data": {
      "image/png": "[encoded data removed]",
      "text/plain": [
       "<Figure size 432x288 with 1 Axes>"
      ]
     },
     "metadata": {
      "needs_background": "light"
     },
     "output_type": "display_data"
    }
   ],
   "source": [
    "plt.scatter(mob1['n_cores'], mob1['price_range'])\n",
    "plt.xlabel('n_cores')\n",
    "plt.ylabel('price_range')\n",
    "plt.show()"
   ]
  },
  {
   "cell_type": "code",
   "execution_count": 39,
   "id": "bb03a624",
   "metadata": {},
   "outputs": [
    {
     "data": {
      "image/png": "[encoded data removed]",
      "text/plain": [
       "<Figure size 432x288 with 1 Axes>"
      ]
     },
     "metadata": {
      "needs_background": "light"
     },
     "output_type": "display_data"
    }
   ],
   "source": [
    "plt.scatter(mob1['ram'], mob1['price_range']) \n",
    "plt.xlabel('ram')\n",
    "plt.ylabel('price_range')\n",
    "plt.show()"
   ]
  },
  {
   "cell_type": "markdown",
   "id": "26867b7c",
   "metadata": {},
   "source": [
    "As ram increases, price range also increases. They follow linear relationship."
   ]
  },
  {
   "cell_type": "markdown",
   "id": "5d60a0db",
   "metadata": {},
   "source": [
    "#### Checking Correlation"
   ]
  },
  {
   "cell_type": "code",
   "execution_count": 40,
   "id": "8a967f03",
   "metadata": {},
   "outputs": [
    {
     "data": {
      "image/png": "[encoded data removed]",
      "text/plain": [
       "<Figure size 1080x504 with 2 Axes>"
      ]
     },
     "metadata": {
      "needs_background": "light"
     },
     "output_type": "display_data"
    }
   ],
   "source": [
    "corr = mob1.corr()\n",
    "plt.figure(figsize = [15,7])\n",
    "sns.heatmap(corr, annot = True, cmap = 'YlOrBr', fmt = '0.2f')\n",
    "plt.show()"
   ]
  },
  {
   "cell_type": "markdown",
   "id": "c0b3efc2",
   "metadata": {},
   "source": [
    "Based on the above correlation matrix, correlation among the variables have been observed. For example, \n",
    "\"price_range\" is highly correlated with \"ram\" and moderately correlated with \"battery_power\", \"px_height\", \"px_width\" and others. \n",
    "\n",
    "It also show the multicollinearity. For example: the correlation between pc and fc is high (0.64)\n"
   ]
  },
  {
   "cell_type": "markdown",
   "id": "bfe32c3c",
   "metadata": {},
   "source": [
    "#### Checking Outliers"
   ]
  },
  {
   "cell_type": "code",
   "execution_count": 41,
   "id": "f6d700c6",
   "metadata": {},
   "outputs": [
    {
     "data": {
      "text/html": [
       "<div>\n",
       "<style scoped>\n",
       "    .dataframe tbody tr th:only-of-type {\n",
       "        vertical-align: middle;\n",
       "    }\n",
       "\n",
       "    .dataframe tbody tr th {\n",
       "        vertical-align: top;\n",
       "    }\n",
       "\n",
       "    .dataframe thead th {\n",
       "        text-align: right;\n",
       "    }\n",
       "</style>\n",
       "<table border=\"1\" class=\"dataframe\">\n",
       "  <thead>\n",
       "    <tr style=\"text-align: right;\">\n",
       "      <th></th>\n",
       "      <th>count</th>\n",
       "      <th>mean</th>\n",
       "      <th>std</th>\n",
       "      <th>min</th>\n",
       "      <th>1%</th>\n",
       "      <th>2%</th>\n",
       "      <th>3%</th>\n",
       "      <th>4%</th>\n",
       "      <th>5%</th>\n",
       "      <th>25%</th>\n",
       "      <th>50%</th>\n",
       "      <th>75%</th>\n",
       "      <th>95%</th>\n",
       "      <th>96%</th>\n",
       "      <th>97%</th>\n",
       "      <th>98%</th>\n",
       "      <th>99%</th>\n",
       "      <th>max</th>\n",
       "    </tr>\n",
       "  </thead>\n",
       "  <tbody>\n",
       "    <tr>\n",
       "      <th>battery_power</th>\n",
       "      <td>2000.0</td>\n",
       "      <td>1238.51850</td>\n",
       "      <td>439.418206</td>\n",
       "      <td>501.0</td>\n",
       "      <td>510.00</td>\n",
       "      <td>524.96</td>\n",
       "      <td>538.97</td>\n",
       "      <td>556.92</td>\n",
       "      <td>570.95</td>\n",
       "      <td>851.75</td>\n",
       "      <td>1226.0</td>\n",
       "      <td>1615.25</td>\n",
       "      <td>1930.15</td>\n",
       "      <td>1946.08</td>\n",
       "      <td>1961.06</td>\n",
       "      <td>1974.00</td>\n",
       "      <td>1987.00</td>\n",
       "      <td>1998.0</td>\n",
       "    </tr>\n",
       "    <tr>\n",
       "      <th>clock_speed</th>\n",
       "      <td>2000.0</td>\n",
       "      <td>1.52225</td>\n",
       "      <td>0.816004</td>\n",
       "      <td>0.5</td>\n",
       "      <td>0.50</td>\n",
       "      <td>0.50</td>\n",
       "      <td>0.50</td>\n",
       "      <td>0.50</td>\n",
       "      <td>0.50</td>\n",
       "      <td>0.70</td>\n",
       "      <td>1.5</td>\n",
       "      <td>2.20</td>\n",
       "      <td>2.80</td>\n",
       "      <td>2.90</td>\n",
       "      <td>2.90</td>\n",
       "      <td>2.90</td>\n",
       "      <td>3.00</td>\n",
       "      <td>3.0</td>\n",
       "    </tr>\n",
       "    <tr>\n",
       "      <th>fc</th>\n",
       "      <td>2000.0</td>\n",
       "      <td>4.30950</td>\n",
       "      <td>4.341444</td>\n",
       "      <td>0.0</td>\n",
       "      <td>0.00</td>\n",
       "      <td>0.00</td>\n",
       "      <td>0.00</td>\n",
       "      <td>0.00</td>\n",
       "      <td>0.00</td>\n",
       "      <td>1.00</td>\n",
       "      <td>3.0</td>\n",
       "      <td>7.00</td>\n",
       "      <td>13.00</td>\n",
       "      <td>14.00</td>\n",
       "      <td>15.00</td>\n",
       "      <td>16.00</td>\n",
       "      <td>16.00</td>\n",
       "      <td>19.0</td>\n",
       "    </tr>\n",
       "    <tr>\n",
       "      <th>int_memory</th>\n",
       "      <td>2000.0</td>\n",
       "      <td>32.04650</td>\n",
       "      <td>18.145715</td>\n",
       "      <td>2.0</td>\n",
       "      <td>2.00</td>\n",
       "      <td>2.00</td>\n",
       "      <td>3.00</td>\n",
       "      <td>4.00</td>\n",
       "      <td>5.00</td>\n",
       "      <td>16.00</td>\n",
       "      <td>32.0</td>\n",
       "      <td>48.00</td>\n",
       "      <td>61.00</td>\n",
       "      <td>62.00</td>\n",
       "      <td>63.00</td>\n",
       "      <td>63.00</td>\n",
       "      <td>64.00</td>\n",
       "      <td>64.0</td>\n",
       "    </tr>\n",
       "    <tr>\n",
       "      <th>m_dep</th>\n",
       "      <td>2000.0</td>\n",
       "      <td>0.50175</td>\n",
       "      <td>0.288416</td>\n",
       "      <td>0.1</td>\n",
       "      <td>0.10</td>\n",
       "      <td>0.10</td>\n",
       "      <td>0.10</td>\n",
       "      <td>0.10</td>\n",
       "      <td>0.10</td>\n",
       "      <td>0.20</td>\n",
       "      <td>0.5</td>\n",
       "      <td>0.80</td>\n",
       "      <td>1.00</td>\n",
       "      <td>1.00</td>\n",
       "      <td>1.00</td>\n",
       "      <td>1.00</td>\n",
       "      <td>1.00</td>\n",
       "      <td>1.0</td>\n",
       "    </tr>\n",
       "    <tr>\n",
       "      <th>mobile_wt</th>\n",
       "      <td>2000.0</td>\n",
       "      <td>140.24900</td>\n",
       "      <td>35.399655</td>\n",
       "      <td>80.0</td>\n",
       "      <td>80.00</td>\n",
       "      <td>82.00</td>\n",
       "      <td>83.00</td>\n",
       "      <td>84.00</td>\n",
       "      <td>86.00</td>\n",
       "      <td>109.00</td>\n",
       "      <td>141.0</td>\n",
       "      <td>170.00</td>\n",
       "      <td>196.00</td>\n",
       "      <td>197.00</td>\n",
       "      <td>198.00</td>\n",
       "      <td>199.00</td>\n",
       "      <td>199.00</td>\n",
       "      <td>200.0</td>\n",
       "    </tr>\n",
       "    <tr>\n",
       "      <th>n_cores</th>\n",
       "      <td>2000.0</td>\n",
       "      <td>4.52050</td>\n",
       "      <td>2.287837</td>\n",
       "      <td>1.0</td>\n",
       "      <td>1.00</td>\n",
       "      <td>1.00</td>\n",
       "      <td>1.00</td>\n",
       "      <td>1.00</td>\n",
       "      <td>1.00</td>\n",
       "      <td>3.00</td>\n",
       "      <td>4.0</td>\n",
       "      <td>7.00</td>\n",
       "      <td>8.00</td>\n",
       "      <td>8.00</td>\n",
       "      <td>8.00</td>\n",
       "      <td>8.00</td>\n",
       "      <td>8.00</td>\n",
       "      <td>8.0</td>\n",
       "    </tr>\n",
       "    <tr>\n",
       "      <th>pc</th>\n",
       "      <td>2000.0</td>\n",
       "      <td>9.91650</td>\n",
       "      <td>6.064315</td>\n",
       "      <td>0.0</td>\n",
       "      <td>0.00</td>\n",
       "      <td>0.00</td>\n",
       "      <td>0.00</td>\n",
       "      <td>0.00</td>\n",
       "      <td>0.00</td>\n",
       "      <td>5.00</td>\n",
       "      <td>10.0</td>\n",
       "      <td>15.00</td>\n",
       "      <td>20.00</td>\n",
       "      <td>20.00</td>\n",
       "      <td>20.00</td>\n",
       "      <td>20.00</td>\n",
       "      <td>20.00</td>\n",
       "      <td>20.0</td>\n",
       "    </tr>\n",
       "    <tr>\n",
       "      <th>px_height</th>\n",
       "      <td>2000.0</td>\n",
       "      <td>645.10800</td>\n",
       "      <td>443.780811</td>\n",
       "      <td>0.0</td>\n",
       "      <td>15.00</td>\n",
       "      <td>30.98</td>\n",
       "      <td>45.97</td>\n",
       "      <td>58.00</td>\n",
       "      <td>70.95</td>\n",
       "      <td>282.75</td>\n",
       "      <td>564.0</td>\n",
       "      <td>947.25</td>\n",
       "      <td>1485.05</td>\n",
       "      <td>1568.04</td>\n",
       "      <td>1618.03</td>\n",
       "      <td>1698.00</td>\n",
       "      <td>1791.01</td>\n",
       "      <td>1960.0</td>\n",
       "    </tr>\n",
       "    <tr>\n",
       "      <th>px_width</th>\n",
       "      <td>2000.0</td>\n",
       "      <td>1251.51550</td>\n",
       "      <td>432.199447</td>\n",
       "      <td>500.0</td>\n",
       "      <td>512.99</td>\n",
       "      <td>526.96</td>\n",
       "      <td>542.00</td>\n",
       "      <td>562.00</td>\n",
       "      <td>579.85</td>\n",
       "      <td>874.75</td>\n",
       "      <td>1247.0</td>\n",
       "      <td>1633.00</td>\n",
       "      <td>1929.05</td>\n",
       "      <td>1947.00</td>\n",
       "      <td>1963.00</td>\n",
       "      <td>1974.00</td>\n",
       "      <td>1987.00</td>\n",
       "      <td>1998.0</td>\n",
       "    </tr>\n",
       "    <tr>\n",
       "      <th>ram</th>\n",
       "      <td>2000.0</td>\n",
       "      <td>2124.21300</td>\n",
       "      <td>1084.732044</td>\n",
       "      <td>256.0</td>\n",
       "      <td>296.99</td>\n",
       "      <td>323.98</td>\n",
       "      <td>362.97</td>\n",
       "      <td>417.96</td>\n",
       "      <td>445.00</td>\n",
       "      <td>1207.50</td>\n",
       "      <td>2146.5</td>\n",
       "      <td>3064.50</td>\n",
       "      <td>3826.35</td>\n",
       "      <td>3864.04</td>\n",
       "      <td>3894.09</td>\n",
       "      <td>3922.06</td>\n",
       "      <td>3958.01</td>\n",
       "      <td>3998.0</td>\n",
       "    </tr>\n",
       "    <tr>\n",
       "      <th>sc_h</th>\n",
       "      <td>2000.0</td>\n",
       "      <td>12.30650</td>\n",
       "      <td>4.213245</td>\n",
       "      <td>5.0</td>\n",
       "      <td>5.00</td>\n",
       "      <td>5.00</td>\n",
       "      <td>5.00</td>\n",
       "      <td>5.00</td>\n",
       "      <td>6.00</td>\n",
       "      <td>9.00</td>\n",
       "      <td>12.0</td>\n",
       "      <td>16.00</td>\n",
       "      <td>19.00</td>\n",
       "      <td>19.00</td>\n",
       "      <td>19.00</td>\n",
       "      <td>19.00</td>\n",
       "      <td>19.00</td>\n",
       "      <td>19.0</td>\n",
       "    </tr>\n",
       "    <tr>\n",
       "      <th>sc_w</th>\n",
       "      <td>2000.0</td>\n",
       "      <td>5.76700</td>\n",
       "      <td>4.356398</td>\n",
       "      <td>0.0</td>\n",
       "      <td>0.00</td>\n",
       "      <td>0.00</td>\n",
       "      <td>0.00</td>\n",
       "      <td>0.00</td>\n",
       "      <td>0.00</td>\n",
       "      <td>2.00</td>\n",
       "      <td>5.0</td>\n",
       "      <td>9.00</td>\n",
       "      <td>14.00</td>\n",
       "      <td>15.00</td>\n",
       "      <td>15.00</td>\n",
       "      <td>16.00</td>\n",
       "      <td>17.00</td>\n",
       "      <td>18.0</td>\n",
       "    </tr>\n",
       "    <tr>\n",
       "      <th>talk_time</th>\n",
       "      <td>2000.0</td>\n",
       "      <td>11.01100</td>\n",
       "      <td>5.463955</td>\n",
       "      <td>2.0</td>\n",
       "      <td>2.00</td>\n",
       "      <td>2.00</td>\n",
       "      <td>2.00</td>\n",
       "      <td>2.00</td>\n",
       "      <td>3.00</td>\n",
       "      <td>6.00</td>\n",
       "      <td>11.0</td>\n",
       "      <td>16.00</td>\n",
       "      <td>20.00</td>\n",
       "      <td>20.00</td>\n",
       "      <td>20.00</td>\n",
       "      <td>20.00</td>\n",
       "      <td>20.00</td>\n",
       "      <td>20.0</td>\n",
       "    </tr>\n",
       "    <tr>\n",
       "      <th>price_range</th>\n",
       "      <td>2000.0</td>\n",
       "      <td>1.50000</td>\n",
       "      <td>1.118314</td>\n",
       "      <td>0.0</td>\n",
       "      <td>0.00</td>\n",
       "      <td>0.00</td>\n",
       "      <td>0.00</td>\n",
       "      <td>0.00</td>\n",
       "      <td>0.00</td>\n",
       "      <td>0.75</td>\n",
       "      <td>1.5</td>\n",
       "      <td>2.25</td>\n",
       "      <td>3.00</td>\n",
       "      <td>3.00</td>\n",
       "      <td>3.00</td>\n",
       "      <td>3.00</td>\n",
       "      <td>3.00</td>\n",
       "      <td>3.0</td>\n",
       "    </tr>\n",
       "  </tbody>\n",
       "</table>\n",
       "</div>"
      ],
      "text/plain": [
       "                count        mean          std    min      1%      2%      3%  \\\n",
       "battery_power  2000.0  1238.51850   439.418206  501.0  510.00  524.96  538.97   \n",
       "clock_speed    2000.0     1.52225     0.816004    0.5    0.50    0.50    0.50   \n",
       "fc             2000.0     4.30950     4.341444    0.0    0.00    0.00    0.00   \n",
       "int_memory     2000.0    32.04650    18.145715    2.0    2.00    2.00    3.00   \n",
       "m_dep          2000.0     0.50175     0.288416    0.1    0.10    0.10    0.10   \n",
       "mobile_wt      2000.0   140.24900    35.399655   80.0   80.00   82.00   83.00   \n",
       "n_cores        2000.0     4.52050     2.287837    1.0    1.00    1.00    1.00   \n",
       "pc             2000.0     9.91650     6.064315    0.0    0.00    0.00    0.00   \n",
       "px_height      2000.0   645.10800   443.780811    0.0   15.00   30.98   45.97   \n",
       "px_width       2000.0  1251.51550   432.199447  500.0  512.99  526.96  542.00   \n",
       "ram            2000.0  2124.21300  1084.732044  256.0  296.99  323.98  362.97   \n",
       "sc_h           2000.0    12.30650     4.213245    5.0    5.00    5.00    5.00   \n",
       "sc_w           2000.0     5.76700     4.356398    0.0    0.00    0.00    0.00   \n",
       "talk_time      2000.0    11.01100     5.463955    2.0    2.00    2.00    2.00   \n",
       "price_range    2000.0     1.50000     1.118314    0.0    0.00    0.00    0.00   \n",
       "\n",
       "                   4%      5%      25%     50%      75%      95%      96%  \\\n",
       "battery_power  556.92  570.95   851.75  1226.0  1615.25  1930.15  1946.08   \n",
       "clock_speed      0.50    0.50     0.70     1.5     2.20     2.80     2.90   \n",
       "fc               0.00    0.00     1.00     3.0     7.00    13.00    14.00   \n",
       "int_memory       4.00    5.00    16.00    32.0    48.00    61.00    62.00   \n",
       "m_dep            0.10    0.10     0.20     0.5     0.80     1.00     1.00   \n",
       "mobile_wt       84.00   86.00   109.00   141.0   170.00   196.00   197.00   \n",
       "n_cores          1.00    1.00     3.00     4.0     7.00     8.00     8.00   \n",
       "pc               0.00    0.00     5.00    10.0    15.00    20.00    20.00   \n",
       "px_height       58.00   70.95   282.75   564.0   947.25  1485.05  1568.04   \n",
       "px_width       562.00  579.85   874.75  1247.0  1633.00  1929.05  1947.00   \n",
       "ram            417.96  445.00  1207.50  2146.5  3064.50  3826.35  3864.04   \n",
       "sc_h             5.00    6.00     9.00    12.0    16.00    19.00    19.00   \n",
       "sc_w             0.00    0.00     2.00     5.0     9.00    14.00    15.00   \n",
       "talk_time        2.00    3.00     6.00    11.0    16.00    20.00    20.00   \n",
       "price_range      0.00    0.00     0.75     1.5     2.25     3.00     3.00   \n",
       "\n",
       "                   97%      98%      99%     max  \n",
       "battery_power  1961.06  1974.00  1987.00  1998.0  \n",
       "clock_speed       2.90     2.90     3.00     3.0  \n",
       "fc               15.00    16.00    16.00    19.0  \n",
       "int_memory       63.00    63.00    64.00    64.0  \n",
       "m_dep             1.00     1.00     1.00     1.0  \n",
       "mobile_wt       198.00   199.00   199.00   200.0  \n",
       "n_cores           8.00     8.00     8.00     8.0  \n",
       "pc               20.00    20.00    20.00    20.0  \n",
       "px_height      1618.03  1698.00  1791.01  1960.0  \n",
       "px_width       1963.00  1974.00  1987.00  1998.0  \n",
       "ram            3894.09  3922.06  3958.01  3998.0  \n",
       "sc_h             19.00    19.00    19.00    19.0  \n",
       "sc_w             15.00    16.00    17.00    18.0  \n",
       "talk_time        20.00    20.00    20.00    20.0  \n",
       "price_range       3.00     3.00     3.00     3.0  "
      ]
     },
     "execution_count": 41,
     "metadata": {},
     "output_type": "execute_result"
    }
   ],
   "source": [
    "mob1.describe(percentiles = [0.01,0.02,0.03,0.04,0.05,0.25,0.50,0.75,0.95,0.96,0.97,0.98,0.99]).T"
   ]
  },
  {
   "cell_type": "markdown",
   "id": "9defd778",
   "metadata": {},
   "source": [
    "#### Outliers Treatment"
   ]
  },
  {
   "cell_type": "code",
   "execution_count": 42,
   "id": "f0522c4a",
   "metadata": {},
   "outputs": [],
   "source": [
    "mob1['fc'] = np.where(mob1['fc'] > 16.0, 16.0, mob1['fc'])"
   ]
  },
  {
   "cell_type": "code",
   "execution_count": 43,
   "id": "306eb9e3",
   "metadata": {},
   "outputs": [],
   "source": [
    "mob1['px_height'] = np.where(mob1['px_height'] > 1791.01, 1791.01, mob1['px_height'])\n",
    "mob1['px_height'] = np.where(mob1['px_height'] < 15.00, 15.00, mob1['px_height'])"
   ]
  },
  {
   "cell_type": "code",
   "execution_count": 44,
   "id": "b296547a",
   "metadata": {},
   "outputs": [],
   "source": [
    "mob1['sc_w'] = np.where(mob1['sc_w'] == 0, np.nan, mob1['sc_w'])"
   ]
  },
  {
   "cell_type": "code",
   "execution_count": 45,
   "id": "60925950",
   "metadata": {},
   "outputs": [
    {
     "data": {
      "text/plain": [
       "(6.337362637362637, 6.0)"
      ]
     },
     "execution_count": 45,
     "metadata": {},
     "output_type": "execute_result"
    }
   ],
   "source": [
    "mob1['sc_w'].mean(), mob1['sc_w'].median()"
   ]
  },
  {
   "cell_type": "code",
   "execution_count": 46,
   "id": "2d987c36",
   "metadata": {},
   "outputs": [],
   "source": [
    "# replacing 180 nan values with median\n",
    "mob1['sc_w'].fillna(mob1['sc_w'].median(), inplace = True)"
   ]
  },
  {
   "cell_type": "code",
   "execution_count": 47,
   "id": "9e5644b8",
   "metadata": {},
   "outputs": [
    {
     "data": {
      "text/plain": [
       "Index(['battery_power', 'blue', 'clock_speed', 'dual_sim', 'fc', 'four_g',\n",
       "       'int_memory', 'm_dep', 'mobile_wt', 'n_cores', 'pc', 'px_height',\n",
       "       'px_width', 'ram', 'sc_h', 'sc_w', 'talk_time', 'three_g',\n",
       "       'touch_screen', 'wifi', 'price_range'],\n",
       "      dtype='object')"
      ]
     },
     "execution_count": 47,
     "metadata": {},
     "output_type": "execute_result"
    }
   ],
   "source": [
    "mob1.columns"
   ]
  },
  {
   "cell_type": "code",
   "execution_count": 48,
   "id": "3802ff6b",
   "metadata": {},
   "outputs": [],
   "source": [
    "mob2 = mob1.astype({'price_range' : str})"
   ]
  },
  {
   "cell_type": "markdown",
   "id": "733bf852",
   "metadata": {},
   "source": [
    "#### Dummy Creation"
   ]
  },
  {
   "cell_type": "code",
   "execution_count": 49,
   "id": "32a58449",
   "metadata": {},
   "outputs": [
    {
     "data": {
      "text/plain": [
       "Index(['battery_power', 'blue', 'clock_speed', 'dual_sim', 'fc', 'four_g',\n",
       "       'int_memory', 'm_dep', 'mobile_wt', 'n_cores', 'pc', 'px_height',\n",
       "       'px_width', 'ram', 'sc_h', 'sc_w', 'talk_time', 'three_g',\n",
       "       'touch_screen', 'wifi', 'price_range_0', 'price_range_1',\n",
       "       'price_range_2', 'price_range_3'],\n",
       "      dtype='object')"
      ]
     },
     "execution_count": 49,
     "metadata": {},
     "output_type": "execute_result"
    }
   ],
   "source": [
    "mob_cleaned = pd.get_dummies(columns=['price_range'], data = mob2)\n",
    "mob_cleaned.columns"
   ]
  },
  {
   "cell_type": "code",
   "execution_count": 50,
   "id": "9db75fc3",
   "metadata": {},
   "outputs": [
    {
     "data": {
      "text/plain": [
       "Index(['battery_power', 'clock_speed', 'fc', 'int_memory', 'm_dep',\n",
       "       'mobile_wt', 'n_cores', 'pc', 'px_height', 'px_width', 'ram', 'sc_h',\n",
       "       'sc_w', 'talk_time', 'price_range_0', 'price_range_1', 'price_range_2',\n",
       "       'price_range_3', 'blue_1', 'dual_sim_1', 'four_g_1', 'three_g_1',\n",
       "       'touch_screen_1', 'wifi_1'],\n",
       "      dtype='object')"
      ]
     },
     "execution_count": 50,
     "metadata": {},
     "output_type": "execute_result"
    }
   ],
   "source": [
    "mob_dummy = pd.get_dummies(mob_cleaned, drop_first=True)\n",
    "mob_dummy.columns"
   ]
  },
  {
   "cell_type": "code",
   "execution_count": 51,
   "id": "8e3a4ef7",
   "metadata": {},
   "outputs": [],
   "source": [
    "y = mob_dummy[['price_range_0', 'price_range_1', 'price_range_2', 'price_range_3']]\n",
    "X = mob_dummy.drop(columns = ['price_range_0', 'price_range_1', 'price_range_2', 'price_range_3'])"
   ]
  },
  {
   "cell_type": "code",
   "execution_count": 52,
   "id": "767533a7",
   "metadata": {},
   "outputs": [],
   "source": [
    "X_train,X_test,y_train,y_test=train_test_split(X,y,test_size=.25,random_state=99)"
   ]
  },
  {
   "cell_type": "markdown",
   "id": "fd948f49",
   "metadata": {},
   "source": [
    "#### Standardization "
   ]
  },
  {
   "cell_type": "code",
   "execution_count": 53,
   "id": "79a93c13",
   "metadata": {},
   "outputs": [],
   "source": [
    "scaler = StandardScaler()\n",
    "X_train_sc = scaler.fit_transform(X_train)\n",
    "X_test_sc = scaler.transform(X_test)\n",
    "\n",
    "X_train_sc1 = pd.DataFrame(X_train_sc,columns=X_train.columns)\n",
    "\n",
    "X_test_sc1 = pd.DataFrame(X_test_sc,columns=X_test.columns)"
   ]
  },
  {
   "cell_type": "markdown",
   "id": "187496e0",
   "metadata": {},
   "source": [
    "### Randon Forest Classifier"
   ]
  },
  {
   "cell_type": "code",
   "execution_count": 54,
   "id": "91cefbd1",
   "metadata": {},
   "outputs": [],
   "source": [
    "from sklearn.ensemble import RandomForestClassifier"
   ]
  },
  {
   "cell_type": "code",
   "execution_count": 55,
   "id": "3247d7fa",
   "metadata": {},
   "outputs": [
    {
     "name": "stdout",
     "output_type": "stream",
     "text": [
      "Fitting 10 folds for each of 10 candidates, totalling 100 fits\n"
     ]
    },
    {
     "data": {
      "text/plain": [
       "RandomizedSearchCV(cv=10, estimator=RandomForestClassifier(random_state=42),\n",
       "                   n_jobs=-1,\n",
       "                   param_distributions={'bootstrap': [True, False],\n",
       "                                        'criterion': ['entropy', 'gini'],\n",
       "                                        'max_depth': [7, 10, 14],\n",
       "                                        'max_features': ['auto', 'log2', None],\n",
       "                                        'min_samples_split': [10, 15, 19, 25],\n",
       "                                        'n_estimators': [200, 250, 300]},\n",
       "                   verbose=True)"
      ]
     },
     "execution_count": 55,
     "metadata": {},
     "output_type": "execute_result"
    }
   ],
   "source": [
    "from sklearn.model_selection import RandomizedSearchCV\n",
    "param_dist = {'max_depth':[7,10,14],\n",
    "              'min_samples_split':[10,15,19,25],\n",
    "              'n_estimators':[200,250,300],\n",
    "              'bootstrap': [True, False],\n",
    "              'max_features': ['auto', 'log2', None],\n",
    "              'criterion': ['entropy', 'gini']}\n",
    "\n",
    "fit_rf = RandomForestClassifier(random_state=42)\n",
    "\n",
    "cv_rf = RandomizedSearchCV(fit_rf, param_dist, cv = 10, n_jobs = -1, verbose = True)\n",
    "\n",
    "cv_rf.fit(X_train_sc1, y_train)"
   ]
  },
  {
   "cell_type": "code",
   "execution_count": 56,
   "id": "1f5058ef",
   "metadata": {},
   "outputs": [
    {
     "data": {
      "text/plain": [
       "{'n_estimators': 250,\n",
       " 'min_samples_split': 19,\n",
       " 'max_features': None,\n",
       " 'max_depth': 14,\n",
       " 'criterion': 'entropy',\n",
       " 'bootstrap': False}"
      ]
     },
     "execution_count": 56,
     "metadata": {},
     "output_type": "execute_result"
    }
   ],
   "source": [
    "cv_rf.best_params_"
   ]
  },
  {
   "cell_type": "code",
   "execution_count": 63,
   "id": "c745efe7",
   "metadata": {},
   "outputs": [
    {
     "name": "stdout",
     "output_type": "stream",
     "text": [
      "Train Accuracy : 0.9373333333333334\n",
      "Test Accuracy : 0.818\n"
     ]
    }
   ],
   "source": [
    "rf =RandomForestClassifier(n_estimators = 250,\n",
    "                           max_depth = 14, \n",
    "                           criterion = 'entropy',\n",
    "                           min_samples_split = 19,\n",
    "                           max_features = None,\n",
    "                           bootstrap = False)\n",
    "\n",
    "rf.fit(X_train_sc1, y_train)\n",
    "\n",
    "print(\"Train Accuracy :\", rf.score(X_train_sc1, y_train))\n",
    "print(\"Test Accuracy :\", rf.score(X_test_sc1, y_test))"
   ]
  },
  {
   "cell_type": "code",
   "execution_count": 55,
   "id": "a674f064",
   "metadata": {},
   "outputs": [
    {
     "name": "stdout",
     "output_type": "stream",
     "text": [
      "Train Accuracy : 0.9126666666666666\n",
      "Test Accuracy : 0.862\n"
     ]
    }
   ],
   "source": [
    "rf3 =RandomForestClassifier(n_estimators = 250,\n",
    "                           max_depth = 5, \n",
    "                           criterion = 'gini',\n",
    "                           min_samples_split = 10,\n",
    "                           max_features = None,\n",
    "                           bootstrap = True)\n",
    "\n",
    "rf3.fit(X_train_sc1, y_train)\n",
    "\n",
    "print(\"Train Accuracy :\", rf3.score(X_train_sc1,y_train))\n",
    "print(\"Test Accuracy :\", rf3.score(X_test_sc1,y_test))"
   ]
  },
  {
   "cell_type": "code",
   "execution_count": 59,
   "id": "e339e48f",
   "metadata": {},
   "outputs": [
    {
     "data": {
      "text/plain": [
       "array([1.16032853e-01, 6.72299229e-04, 5.89439084e-04, 1.85233651e-03,\n",
       "       1.12634994e-03, 4.11359707e-03, 6.07834690e-04, 9.36865683e-04,\n",
       "       6.79511321e-02, 4.96351664e-02, 7.54060363e-01, 7.15020678e-04,\n",
       "       7.64844845e-04, 7.53632230e-04, 4.33831196e-05, 6.05257370e-05,\n",
       "       0.00000000e+00, 3.64520115e-05, 2.26488859e-05, 2.52555407e-05])"
      ]
     },
     "execution_count": 59,
     "metadata": {},
     "output_type": "execute_result"
    }
   ],
   "source": [
    "rf3.feature_importances_"
   ]
  },
  {
   "cell_type": "markdown",
   "id": "af1d0935",
   "metadata": {},
   "source": [
    "#### Selecting Important features "
   ]
  },
  {
   "cell_type": "code",
   "execution_count": 61,
   "id": "3f21698b",
   "metadata": {},
   "outputs": [
    {
     "data": {
      "text/html": [
       "<div>\n",
       "<style scoped>\n",
       "    .dataframe tbody tr th:only-of-type {\n",
       "        vertical-align: middle;\n",
       "    }\n",
       "\n",
       "    .dataframe tbody tr th {\n",
       "        vertical-align: top;\n",
       "    }\n",
       "\n",
       "    .dataframe thead th {\n",
       "        text-align: right;\n",
       "    }\n",
       "</style>\n",
       "<table border=\"1\" class=\"dataframe\">\n",
       "  <thead>\n",
       "    <tr style=\"text-align: right;\">\n",
       "      <th></th>\n",
       "      <th>Var</th>\n",
       "      <th>Imp</th>\n",
       "    </tr>\n",
       "  </thead>\n",
       "  <tbody>\n",
       "    <tr>\n",
       "      <th>10</th>\n",
       "      <td>ram</td>\n",
       "      <td>0.754060</td>\n",
       "    </tr>\n",
       "    <tr>\n",
       "      <th>0</th>\n",
       "      <td>battery_power</td>\n",
       "      <td>0.116033</td>\n",
       "    </tr>\n",
       "    <tr>\n",
       "      <th>8</th>\n",
       "      <td>px_height</td>\n",
       "      <td>0.067951</td>\n",
       "    </tr>\n",
       "    <tr>\n",
       "      <th>9</th>\n",
       "      <td>px_width</td>\n",
       "      <td>0.049635</td>\n",
       "    </tr>\n",
       "    <tr>\n",
       "      <th>5</th>\n",
       "      <td>mobile_wt</td>\n",
       "      <td>0.004114</td>\n",
       "    </tr>\n",
       "    <tr>\n",
       "      <th>3</th>\n",
       "      <td>int_memory</td>\n",
       "      <td>0.001852</td>\n",
       "    </tr>\n",
       "    <tr>\n",
       "      <th>4</th>\n",
       "      <td>m_dep</td>\n",
       "      <td>0.001126</td>\n",
       "    </tr>\n",
       "    <tr>\n",
       "      <th>7</th>\n",
       "      <td>pc</td>\n",
       "      <td>0.000937</td>\n",
       "    </tr>\n",
       "    <tr>\n",
       "      <th>12</th>\n",
       "      <td>sc_w</td>\n",
       "      <td>0.000765</td>\n",
       "    </tr>\n",
       "    <tr>\n",
       "      <th>13</th>\n",
       "      <td>talk_time</td>\n",
       "      <td>0.000754</td>\n",
       "    </tr>\n",
       "    <tr>\n",
       "      <th>11</th>\n",
       "      <td>sc_h</td>\n",
       "      <td>0.000715</td>\n",
       "    </tr>\n",
       "    <tr>\n",
       "      <th>1</th>\n",
       "      <td>clock_speed</td>\n",
       "      <td>0.000672</td>\n",
       "    </tr>\n",
       "    <tr>\n",
       "      <th>6</th>\n",
       "      <td>n_cores</td>\n",
       "      <td>0.000608</td>\n",
       "    </tr>\n",
       "    <tr>\n",
       "      <th>2</th>\n",
       "      <td>fc</td>\n",
       "      <td>0.000589</td>\n",
       "    </tr>\n",
       "    <tr>\n",
       "      <th>15</th>\n",
       "      <td>dual_sim_1</td>\n",
       "      <td>0.000061</td>\n",
       "    </tr>\n",
       "    <tr>\n",
       "      <th>14</th>\n",
       "      <td>blue_1</td>\n",
       "      <td>0.000043</td>\n",
       "    </tr>\n",
       "    <tr>\n",
       "      <th>17</th>\n",
       "      <td>three_g_1</td>\n",
       "      <td>0.000036</td>\n",
       "    </tr>\n",
       "    <tr>\n",
       "      <th>19</th>\n",
       "      <td>wifi_1</td>\n",
       "      <td>0.000025</td>\n",
       "    </tr>\n",
       "    <tr>\n",
       "      <th>18</th>\n",
       "      <td>touch_screen_1</td>\n",
       "      <td>0.000023</td>\n",
       "    </tr>\n",
       "    <tr>\n",
       "      <th>16</th>\n",
       "      <td>four_g_1</td>\n",
       "      <td>0.000000</td>\n",
       "    </tr>\n",
       "  </tbody>\n",
       "</table>\n",
       "</div>"
      ],
      "text/plain": [
       "               Var       Imp\n",
       "10             ram  0.754060\n",
       "0    battery_power  0.116033\n",
       "8        px_height  0.067951\n",
       "9         px_width  0.049635\n",
       "5        mobile_wt  0.004114\n",
       "3       int_memory  0.001852\n",
       "4            m_dep  0.001126\n",
       "7               pc  0.000937\n",
       "12            sc_w  0.000765\n",
       "13       talk_time  0.000754\n",
       "11            sc_h  0.000715\n",
       "1      clock_speed  0.000672\n",
       "6          n_cores  0.000608\n",
       "2               fc  0.000589\n",
       "15      dual_sim_1  0.000061\n",
       "14          blue_1  0.000043\n",
       "17       three_g_1  0.000036\n",
       "19          wifi_1  0.000025\n",
       "18  touch_screen_1  0.000023\n",
       "16        four_g_1  0.000000"
      ]
     },
     "execution_count": 61,
     "metadata": {},
     "output_type": "execute_result"
    }
   ],
   "source": [
    "feats = pd.DataFrame({'Var' : X_train_sc1.columns, 'Imp' : rf3.feature_importances_}).sort_values(by = ['Imp'], ascending = False)\n",
    "feats"
   ]
  },
  {
   "cell_type": "code",
   "execution_count": 62,
   "id": "a8c71af6",
   "metadata": {},
   "outputs": [
    {
     "data": {
      "text/plain": [
       "<AxesSubplot:>"
      ]
     },
     "execution_count": 62,
     "metadata": {},
     "output_type": "execute_result"
    },
    {
     "data": {
      "image/png": "[encoded data removed]",
      "text/plain": [
       "<Figure size 432x288 with 1 Axes>"
      ]
     },
     "metadata": {
      "needs_background": "light"
     },
     "output_type": "display_data"
    }
   ],
   "source": [
    "feats.plot(kind = 'bar')"
   ]
  },
  {
   "cell_type": "code",
   "execution_count": 63,
   "id": "61a8c7af",
   "metadata": {},
   "outputs": [
    {
     "data": {
      "text/html": [
       "<div>\n",
       "<style scoped>\n",
       "    .dataframe tbody tr th:only-of-type {\n",
       "        vertical-align: middle;\n",
       "    }\n",
       "\n",
       "    .dataframe tbody tr th {\n",
       "        vertical-align: top;\n",
       "    }\n",
       "\n",
       "    .dataframe thead th {\n",
       "        text-align: right;\n",
       "    }\n",
       "</style>\n",
       "<table border=\"1\" class=\"dataframe\">\n",
       "  <thead>\n",
       "    <tr style=\"text-align: right;\">\n",
       "      <th></th>\n",
       "      <th>Var</th>\n",
       "      <th>Imp</th>\n",
       "    </tr>\n",
       "  </thead>\n",
       "  <tbody>\n",
       "    <tr>\n",
       "      <th>10</th>\n",
       "      <td>ram</td>\n",
       "      <td>0.754060</td>\n",
       "    </tr>\n",
       "    <tr>\n",
       "      <th>0</th>\n",
       "      <td>battery_power</td>\n",
       "      <td>0.116033</td>\n",
       "    </tr>\n",
       "    <tr>\n",
       "      <th>8</th>\n",
       "      <td>px_height</td>\n",
       "      <td>0.067951</td>\n",
       "    </tr>\n",
       "    <tr>\n",
       "      <th>9</th>\n",
       "      <td>px_width</td>\n",
       "      <td>0.049635</td>\n",
       "    </tr>\n",
       "  </tbody>\n",
       "</table>\n",
       "</div>"
      ],
      "text/plain": [
       "              Var       Imp\n",
       "10            ram  0.754060\n",
       "0   battery_power  0.116033\n",
       "8       px_height  0.067951\n",
       "9        px_width  0.049635"
      ]
     },
     "execution_count": 63,
     "metadata": {},
     "output_type": "execute_result"
    }
   ],
   "source": [
    "impfeat = feats[feats['Imp'] >= 0.004387]\n",
    "impfeat"
   ]
  },
  {
   "cell_type": "code",
   "execution_count": 64,
   "id": "eb72a3d7",
   "metadata": {},
   "outputs": [
    {
     "data": {
      "text/plain": [
       "array(['ram', 'battery_power', 'px_height', 'px_width'], dtype=object)"
      ]
     },
     "execution_count": 64,
     "metadata": {},
     "output_type": "execute_result"
    }
   ],
   "source": [
    "imp = impfeat['Var'].values\n",
    "imp"
   ]
  },
  {
   "cell_type": "code",
   "execution_count": 69,
   "id": "ca295978",
   "metadata": {},
   "outputs": [],
   "source": [
    "xx1 = X_train_sc1[imp]\n",
    "xx2 = X_test_sc1[imp]"
   ]
  },
  {
   "cell_type": "code",
   "execution_count": 72,
   "id": "6b94cd31",
   "metadata": {},
   "outputs": [
    {
     "name": "stdout",
     "output_type": "stream",
     "text": [
      "Train Accuracy : 0.9113333333333333\n",
      "Test Accuracy : 0.858\n"
     ]
    }
   ],
   "source": [
    "rf4 =RandomForestClassifier(n_estimators = 250,\n",
    "                           max_depth = 5, \n",
    "                           criterion = 'gini',\n",
    "                           min_samples_split = 10,\n",
    "                           max_features = None,\n",
    "                           bootstrap = True)\n",
    "\n",
    "rf4.fit(xx1, y_train)\n",
    "\n",
    "print(\"Train Accuracy :\", rf4.score(xx1,y_train))\n",
    "print(\"Test Accuracy :\", rf4.score(xx2,y_test))"
   ]
  },
  {
   "cell_type": "markdown",
   "id": "22803fde",
   "metadata": {},
   "source": [
    "### Naive Bayes Classifier"
   ]
  },
  {
   "cell_type": "code",
   "execution_count": 74,
   "id": "4826ec9d",
   "metadata": {},
   "outputs": [],
   "source": [
    "y=mob1[\"price_range\"]\n",
    "X=mob1.drop([\"price_range\"], axis=1)"
   ]
  },
  {
   "cell_type": "code",
   "execution_count": 75,
   "id": "1ccd7b52",
   "metadata": {},
   "outputs": [],
   "source": [
    "X_train,X_test,y_train,y_test=train_test_split(X,y,test_size=.2,random_state=99)"
   ]
  },
  {
   "cell_type": "code",
   "execution_count": 76,
   "id": "232367bc",
   "metadata": {},
   "outputs": [],
   "source": [
    "mn=MinMaxScaler()\n",
    "\n",
    "mn_fit=mn.fit(X_train)\n",
    "\n",
    "X_train_mn=mn_fit.transform(X_train)\n",
    "\n",
    "X_test_mn=mn_fit.transform(X_test)\n",
    "\n",
    "X_train_mn=pd.DataFrame(X_train_mn,columns=X_train.columns)\n",
    "\n",
    "X_test_mn=pd.DataFrame(X_test_mn,columns=X_test.columns)\n"
   ]
  },
  {
   "cell_type": "code",
   "execution_count": 77,
   "id": "ad32c613",
   "metadata": {},
   "outputs": [
    {
     "name": "stdout",
     "output_type": "stream",
     "text": [
      "Train Accuracy  0.661875\n",
      "Test Accuracy  0.5825\n"
     ]
    }
   ],
   "source": [
    "mm=MultinomialNB()\n",
    "mm.fit(X_train_mn, y_train)\n",
    "print(\"Train Accuracy \",mm.score(X_train_mn, y_train))\n",
    "print(\"Test Accuracy \",mm.score(X_test_mn, y_test))"
   ]
  },
  {
   "cell_type": "code",
   "execution_count": 78,
   "id": "ba894175",
   "metadata": {},
   "outputs": [
    {
     "data": {
      "text/html": [
       "<div>\n",
       "<style scoped>\n",
       "    .dataframe tbody tr th:only-of-type {\n",
       "        vertical-align: middle;\n",
       "    }\n",
       "\n",
       "    .dataframe tbody tr th {\n",
       "        vertical-align: top;\n",
       "    }\n",
       "\n",
       "    .dataframe thead th {\n",
       "        text-align: right;\n",
       "    }\n",
       "</style>\n",
       "<table border=\"1\" class=\"dataframe\">\n",
       "  <thead>\n",
       "    <tr style=\"text-align: right;\">\n",
       "      <th></th>\n",
       "      <th>0</th>\n",
       "    </tr>\n",
       "  </thead>\n",
       "  <tbody>\n",
       "    <tr>\n",
       "      <th>0</th>\n",
       "      <td>2</td>\n",
       "    </tr>\n",
       "    <tr>\n",
       "      <th>1</th>\n",
       "      <td>0</td>\n",
       "    </tr>\n",
       "    <tr>\n",
       "      <th>2</th>\n",
       "      <td>3</td>\n",
       "    </tr>\n",
       "    <tr>\n",
       "      <th>3</th>\n",
       "      <td>2</td>\n",
       "    </tr>\n",
       "    <tr>\n",
       "      <th>4</th>\n",
       "      <td>1</td>\n",
       "    </tr>\n",
       "    <tr>\n",
       "      <th>...</th>\n",
       "      <td>...</td>\n",
       "    </tr>\n",
       "    <tr>\n",
       "      <th>1595</th>\n",
       "      <td>3</td>\n",
       "    </tr>\n",
       "    <tr>\n",
       "      <th>1596</th>\n",
       "      <td>2</td>\n",
       "    </tr>\n",
       "    <tr>\n",
       "      <th>1597</th>\n",
       "      <td>1</td>\n",
       "    </tr>\n",
       "    <tr>\n",
       "      <th>1598</th>\n",
       "      <td>1</td>\n",
       "    </tr>\n",
       "    <tr>\n",
       "      <th>1599</th>\n",
       "      <td>2</td>\n",
       "    </tr>\n",
       "  </tbody>\n",
       "</table>\n",
       "<p>1600 rows × 1 columns</p>\n",
       "</div>"
      ],
      "text/plain": [
       "      0\n",
       "0     2\n",
       "1     0\n",
       "2     3\n",
       "3     2\n",
       "4     1\n",
       "...  ..\n",
       "1595  3\n",
       "1596  2\n",
       "1597  1\n",
       "1598  1\n",
       "1599  2\n",
       "\n",
       "[1600 rows x 1 columns]"
      ]
     },
     "execution_count": 78,
     "metadata": {},
     "output_type": "execute_result"
    }
   ],
   "source": [
    "pd.DataFrame(mm.predict(X_train_mn)) "
   ]
  },
  {
   "cell_type": "code",
   "execution_count": 79,
   "id": "95f7476e",
   "metadata": {},
   "outputs": [
    {
     "data": {
      "text/html": [
       "<div>\n",
       "<style scoped>\n",
       "    .dataframe tbody tr th:only-of-type {\n",
       "        vertical-align: middle;\n",
       "    }\n",
       "\n",
       "    .dataframe tbody tr th {\n",
       "        vertical-align: top;\n",
       "    }\n",
       "\n",
       "    .dataframe thead th {\n",
       "        text-align: right;\n",
       "    }\n",
       "</style>\n",
       "<table border=\"1\" class=\"dataframe\">\n",
       "  <thead>\n",
       "    <tr style=\"text-align: right;\">\n",
       "      <th></th>\n",
       "      <th>0</th>\n",
       "      <th>1</th>\n",
       "      <th>2</th>\n",
       "      <th>3</th>\n",
       "    </tr>\n",
       "  </thead>\n",
       "  <tbody>\n",
       "    <tr>\n",
       "      <th>0</th>\n",
       "      <td>0.157567</td>\n",
       "      <td>0.247799</td>\n",
       "      <td>0.303959</td>\n",
       "      <td>0.290674</td>\n",
       "    </tr>\n",
       "    <tr>\n",
       "      <th>1</th>\n",
       "      <td>0.301453</td>\n",
       "      <td>0.256184</td>\n",
       "      <td>0.229136</td>\n",
       "      <td>0.213227</td>\n",
       "    </tr>\n",
       "    <tr>\n",
       "      <th>2</th>\n",
       "      <td>0.142037</td>\n",
       "      <td>0.258446</td>\n",
       "      <td>0.269448</td>\n",
       "      <td>0.330069</td>\n",
       "    </tr>\n",
       "    <tr>\n",
       "      <th>3</th>\n",
       "      <td>0.171437</td>\n",
       "      <td>0.259328</td>\n",
       "      <td>0.295019</td>\n",
       "      <td>0.274216</td>\n",
       "    </tr>\n",
       "    <tr>\n",
       "      <th>4</th>\n",
       "      <td>0.252048</td>\n",
       "      <td>0.267999</td>\n",
       "      <td>0.243874</td>\n",
       "      <td>0.236079</td>\n",
       "    </tr>\n",
       "    <tr>\n",
       "      <th>...</th>\n",
       "      <td>...</td>\n",
       "      <td>...</td>\n",
       "      <td>...</td>\n",
       "      <td>...</td>\n",
       "    </tr>\n",
       "    <tr>\n",
       "      <th>1595</th>\n",
       "      <td>0.202636</td>\n",
       "      <td>0.262078</td>\n",
       "      <td>0.253046</td>\n",
       "      <td>0.282240</td>\n",
       "    </tr>\n",
       "    <tr>\n",
       "      <th>1596</th>\n",
       "      <td>0.163920</td>\n",
       "      <td>0.278477</td>\n",
       "      <td>0.280433</td>\n",
       "      <td>0.277170</td>\n",
       "    </tr>\n",
       "    <tr>\n",
       "      <th>1597</th>\n",
       "      <td>0.267147</td>\n",
       "      <td>0.292038</td>\n",
       "      <td>0.213162</td>\n",
       "      <td>0.227653</td>\n",
       "    </tr>\n",
       "    <tr>\n",
       "      <th>1598</th>\n",
       "      <td>0.228703</td>\n",
       "      <td>0.282528</td>\n",
       "      <td>0.260573</td>\n",
       "      <td>0.228196</td>\n",
       "    </tr>\n",
       "    <tr>\n",
       "      <th>1599</th>\n",
       "      <td>0.156532</td>\n",
       "      <td>0.246312</td>\n",
       "      <td>0.316376</td>\n",
       "      <td>0.280780</td>\n",
       "    </tr>\n",
       "  </tbody>\n",
       "</table>\n",
       "<p>1600 rows × 4 columns</p>\n",
       "</div>"
      ],
      "text/plain": [
       "             0         1         2         3\n",
       "0     0.157567  0.247799  0.303959  0.290674\n",
       "1     0.301453  0.256184  0.229136  0.213227\n",
       "2     0.142037  0.258446  0.269448  0.330069\n",
       "3     0.171437  0.259328  0.295019  0.274216\n",
       "4     0.252048  0.267999  0.243874  0.236079\n",
       "...        ...       ...       ...       ...\n",
       "1595  0.202636  0.262078  0.253046  0.282240\n",
       "1596  0.163920  0.278477  0.280433  0.277170\n",
       "1597  0.267147  0.292038  0.213162  0.227653\n",
       "1598  0.228703  0.282528  0.260573  0.228196\n",
       "1599  0.156532  0.246312  0.316376  0.280780\n",
       "\n",
       "[1600 rows x 4 columns]"
      ]
     },
     "execution_count": 79,
     "metadata": {},
     "output_type": "execute_result"
    }
   ],
   "source": [
    "pd.DataFrame(mm.predict_proba(X_train_mn))"
   ]
  },
  {
   "cell_type": "code",
   "execution_count": 80,
   "id": "e7215fdf",
   "metadata": {},
   "outputs": [],
   "source": [
    "pred_train=mm.predict(X_train_mn)\n",
    "pred_test=mm.predict(X_test_mn)"
   ]
  },
  {
   "cell_type": "code",
   "execution_count": 74,
   "id": "5f8f34ca",
   "metadata": {},
   "outputs": [
    {
     "name": "stdout",
     "output_type": "stream",
     "text": [
      "              precision    recall  f1-score   support\n",
      "\n",
      "           0       0.87      0.84      0.85       406\n",
      "           1       0.59      0.62      0.61       401\n",
      "           2       0.51      0.41      0.46       390\n",
      "           3       0.65      0.76      0.70       403\n",
      "\n",
      "    accuracy                           0.66      1600\n",
      "   macro avg       0.66      0.66      0.66      1600\n",
      "weighted avg       0.66      0.66      0.66      1600\n",
      "\n"
     ]
    }
   ],
   "source": [
    "print(metrics.classification_report(y_train, pred_train)) "
   ]
  },
  {
   "cell_type": "code",
   "execution_count": 75,
   "id": "46febe3a",
   "metadata": {},
   "outputs": [
    {
     "name": "stdout",
     "output_type": "stream",
     "text": [
      "              precision    recall  f1-score   support\n",
      "\n",
      "           0       0.83      0.74      0.79        94\n",
      "           1       0.47      0.58      0.52        99\n",
      "           2       0.49      0.36      0.42       110\n",
      "           3       0.58      0.68      0.63        97\n",
      "\n",
      "    accuracy                           0.58       400\n",
      "   macro avg       0.59      0.59      0.59       400\n",
      "weighted avg       0.59      0.58      0.58       400\n",
      "\n"
     ]
    }
   ],
   "source": [
    "print(metrics.classification_report(y_test, pred_test)) "
   ]
  },
  {
   "cell_type": "code",
   "execution_count": 82,
   "id": "cedaa89f",
   "metadata": {},
   "outputs": [
    {
     "data": {
      "text/plain": [
       "<AxesSubplot:>"
      ]
     },
     "execution_count": 82,
     "metadata": {},
     "output_type": "execute_result"
    },
    {
     "data": {
      "image/png": "[encoded data removed]",
      "text/plain": [
       "<Figure size 432x288 with 1 Axes>"
      ]
     },
     "metadata": {
      "needs_background": "light"
     },
     "output_type": "display_data"
    }
   ],
   "source": [
    "Pred = pd.DataFrame({'Act Price' : y_train, 'Pred Price' : pred_train})\n",
    "Pred.head(20).plot(kind = 'bar')"
   ]
  }
 ],
 "metadata": {
  "kernelspec": {
   "display_name": "Python 3 (ipykernel)",
   "language": "python",
   "name": "python3"
  },
  "language_info": {
   "codemirror_mode": {
    "name": "ipython",
    "version": 3
   },
   "file_extension": ".py",
   "mimetype": "text/x-python",
   "name": "python",
   "nbconvert_exporter": "python",
   "pygments_lexer": "ipython3",
   "version": "3.9.7"
  }
 },
 "nbformat": 4,
 "nbformat_minor": 5
}
